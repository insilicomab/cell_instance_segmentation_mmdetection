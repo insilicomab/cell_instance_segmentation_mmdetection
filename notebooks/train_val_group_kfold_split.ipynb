{
 "cells": [
  {
   "cell_type": "code",
   "execution_count": 1,
   "metadata": {},
   "outputs": [],
   "source": [
    "import pandas as pd\n",
    "from sklearn.model_selection import GroupKFold"
   ]
  },
  {
   "cell_type": "code",
   "execution_count": 2,
   "metadata": {},
   "outputs": [],
   "source": [
    "DATA_PATH = \"../data/sartorius-cell-instance-segmentation/train.csv\"\n",
    "N_FOLDS = 5"
   ]
  },
  {
   "cell_type": "code",
   "execution_count": 3,
   "metadata": {},
   "outputs": [],
   "source": [
    "train_df = pd.read_csv(DATA_PATH)\n",
    "\n",
    "gkf = GroupKFold(n_splits = N_FOLDS)\n",
    "\n",
    "train_df[\"fold\"] = -1\n",
    "y = train_df[\"width\"].values\n",
    "\n",
    "for f, (t_, v_) in enumerate(gkf.split(X=train_df, y=y, groups=train_df[\"id\"].values)):\n",
    "    train_df.loc[v_, \"fold\"] = f\n",
    "    \n",
    "fold_id = train_df[\"fold\"].copy()"
   ]
  },
  {
   "cell_type": "code",
   "execution_count": 4,
   "metadata": {},
   "outputs": [],
   "source": [
    "train_df.to_csv('../inputs/train_val_gkfold_split.csv', index = False)"
   ]
  }
 ],
 "metadata": {
  "kernelspec": {
   "display_name": "Python 3",
   "language": "python",
   "name": "python3"
  },
  "language_info": {
   "codemirror_mode": {
    "name": "ipython",
    "version": 3
   },
   "file_extension": ".py",
   "mimetype": "text/x-python",
   "name": "python",
   "nbconvert_exporter": "python",
   "pygments_lexer": "ipython3",
   "version": "3.11.6"
  }
 },
 "nbformat": 4,
 "nbformat_minor": 2
}
